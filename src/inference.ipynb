{
 "cells": [
  {
   "cell_type": "code",
   "execution_count": null,
   "source": [
    "%%capture\n",
    "!git clone https://github.com/barteksad/pl-en-Translator.git\n",
    "%cd pl-en-Translator/src\n",
    "%pip install sentencepiece datasets transformers gradio"
   ],
   "outputs": [],
   "metadata": {}
  },
  {
   "cell_type": "code",
   "execution_count": null,
   "source": [
    "from config import CFG\n",
    "\n",
    "from transformers import AutoTokenizer\n",
    "from transformers import AutoModelForSeq2SeqLM\n",
    "\n",
    "import gradio as gr\n",
    "\n",
    "import os\n",
    "\n",
    "def predict(text):\n",
    "  text = tokenizer(text, return_tensors='pt')\n",
    "  output = model.generate(**text)\n",
    "  output = tokenizer.decode(output[0], skip_special_tokens=True)\n",
    "\n",
    "  return output\n",
    "\n",
    "\n",
    "if __name__ == '__main__':\n",
    "    global model\n",
    "    global tokenizer\n",
    "\n",
    "    tokenizer = AutoTokenizer.from_pretrained(CFG.model_name)\n",
    "    if os.path.exists('src/model_checkpoints/finetuned_model_best_loss'):\n",
    "      model = AutoModelForSeq2SeqLM.from_pretrained('src/model_checkpoints/finetuned_model_best_loss')\n",
    "    else:\n",
    "      model = AutoModelForSeq2SeqLM.from_pretrained(CFG.model_name)\n",
    "    model.eval()\n",
    "\n",
    "    iface = gr.Interface(fn=predict, inputs=\"text\", outputs=\"text\", examples=[['Jak masz na imię?']])\n",
    "    iface.launch(share=True)\n"
   ],
   "outputs": [],
   "metadata": {}
  }
 ],
 "metadata": {
  "orig_nbformat": 4,
  "language_info": {
   "name": "python",
   "version": "3.8.10",
   "mimetype": "text/x-python",
   "codemirror_mode": {
    "name": "ipython",
    "version": 3
   },
   "pygments_lexer": "ipython3",
   "nbconvert_exporter": "python",
   "file_extension": ".py"
  },
  "kernelspec": {
   "name": "python3",
   "display_name": "Python 3.8.10 64-bit ('ml': conda)"
  },
  "interpreter": {
   "hash": "94e574b0ff762fa2604e2dda0d42a42ee05e68ff187669f28abf9be9211e1e6e"
  }
 },
 "nbformat": 4,
 "nbformat_minor": 2
}