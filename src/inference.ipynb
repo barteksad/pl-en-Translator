{
 "cells": [
  {
   "cell_type": "code",
   "execution_count": 2,
   "source": [
    "!pip install -r ../requirements.txt"
   ],
   "outputs": [
    {
     "output_type": "stream",
     "name": "stdout",
     "text": [
      "Requirement already satisfied: datasets==1.10.2 in /home/bartek/miniconda3/envs/ml/lib/python3.8/site-packages (from -r ../requirements.txt (line 1)) (1.10.2)\n",
      "Requirement already satisfied: torch==1.8.1 in /home/bartek/miniconda3/envs/ml/lib/python3.8/site-packages (from -r ../requirements.txt (line 2)) (1.8.1)\n",
      "Requirement already satisfied: transformers==4.9.0 in /home/bartek/miniconda3/envs/ml/lib/python3.8/site-packages (from -r ../requirements.txt (line 3)) (4.9.0)\n",
      "Requirement already satisfied: tqdm==4.49.0 in /home/bartek/miniconda3/envs/ml/lib/python3.8/site-packages (from -r ../requirements.txt (line 4)) (4.49.0)\n",
      "Requirement already satisfied: gradio==2.2.5 in /home/bartek/miniconda3/envs/ml/lib/python3.8/site-packages (from -r ../requirements.txt (line 5)) (2.2.5)\n",
      "Requirement already satisfied: numpy==1.21.0 in /home/bartek/miniconda3/envs/ml/lib/python3.8/site-packages (from -r ../requirements.txt (line 6)) (1.21.0)\n",
      "Requirement already satisfied: scikit_learn==0.24.2 in /home/bartek/miniconda3/envs/ml/lib/python3.8/site-packages (from -r ../requirements.txt (line 7)) (0.24.2)\n",
      "Requirement already satisfied: pyarrow!=4.0.0,>=1.0.0 in /home/bartek/miniconda3/envs/ml/lib/python3.8/site-packages (from datasets==1.10.2->-r ../requirements.txt (line 1)) (4.0.1)\n",
      "Requirement already satisfied: dill in /home/bartek/miniconda3/envs/ml/lib/python3.8/site-packages (from datasets==1.10.2->-r ../requirements.txt (line 1)) (0.3.4)\n",
      "Requirement already satisfied: pandas in /home/bartek/miniconda3/envs/ml/lib/python3.8/site-packages (from datasets==1.10.2->-r ../requirements.txt (line 1)) (1.3.0)\n",
      "Requirement already satisfied: requests>=2.19.0 in /home/bartek/miniconda3/envs/ml/lib/python3.8/site-packages (from datasets==1.10.2->-r ../requirements.txt (line 1)) (2.25.1)\n",
      "Requirement already satisfied: xxhash in /home/bartek/miniconda3/envs/ml/lib/python3.8/site-packages (from datasets==1.10.2->-r ../requirements.txt (line 1)) (2.0.2)\n",
      "Requirement already satisfied: multiprocess in /home/bartek/miniconda3/envs/ml/lib/python3.8/site-packages (from datasets==1.10.2->-r ../requirements.txt (line 1)) (0.70.12.2)\n",
      "Requirement already satisfied: fsspec>=2021.05.0 in /home/bartek/miniconda3/envs/ml/lib/python3.8/site-packages (from datasets==1.10.2->-r ../requirements.txt (line 1)) (2021.7.0)\n",
      "Requirement already satisfied: huggingface_hub<0.1.0 in /home/bartek/miniconda3/envs/ml/lib/python3.8/site-packages (from datasets==1.10.2->-r ../requirements.txt (line 1)) (0.0.12)\n",
      "Requirement already satisfied: packaging in /home/bartek/miniconda3/envs/ml/lib/python3.8/site-packages (from datasets==1.10.2->-r ../requirements.txt (line 1)) (21.0)\n",
      "Requirement already satisfied: typing-extensions in /home/bartek/miniconda3/envs/ml/lib/python3.8/site-packages (from torch==1.8.1->-r ../requirements.txt (line 2)) (3.10.0.0)\n",
      "Requirement already satisfied: tokenizers<0.11,>=0.10.1 in /home/bartek/miniconda3/envs/ml/lib/python3.8/site-packages (from transformers==4.9.0->-r ../requirements.txt (line 3)) (0.10.3)\n",
      "Requirement already satisfied: regex!=2019.12.17 in /home/bartek/miniconda3/envs/ml/lib/python3.8/site-packages (from transformers==4.9.0->-r ../requirements.txt (line 3)) (2021.7.6)\n",
      "Requirement already satisfied: filelock in /home/bartek/miniconda3/envs/ml/lib/python3.8/site-packages (from transformers==4.9.0->-r ../requirements.txt (line 3)) (3.0.12)\n",
      "Requirement already satisfied: sacremoses in /home/bartek/miniconda3/envs/ml/lib/python3.8/site-packages/sacremoses-0.0.43-py3.8.egg (from transformers==4.9.0->-r ../requirements.txt (line 3)) (0.0.43)\n",
      "Requirement already satisfied: pyyaml>=5.1 in /home/bartek/miniconda3/envs/ml/lib/python3.8/site-packages (from transformers==4.9.0->-r ../requirements.txt (line 3)) (5.4.1)\n",
      "Requirement already satisfied: ffmpy in /home/bartek/miniconda3/envs/ml/lib/python3.8/site-packages (from gradio==2.2.5->-r ../requirements.txt (line 5)) (0.3.0)\n",
      "Requirement already satisfied: paramiko in /home/bartek/miniconda3/envs/ml/lib/python3.8/site-packages (from gradio==2.2.5->-r ../requirements.txt (line 5)) (2.7.2)\n",
      "Requirement already satisfied: Flask>=1.1.1 in /home/bartek/miniconda3/envs/ml/lib/python3.8/site-packages (from gradio==2.2.5->-r ../requirements.txt (line 5)) (2.0.1)\n",
      "Requirement already satisfied: Flask-Cors>=3.0.8 in /home/bartek/miniconda3/envs/ml/lib/python3.8/site-packages (from gradio==2.2.5->-r ../requirements.txt (line 5)) (3.0.10)\n",
      "Requirement already satisfied: flask-cachebuster in /home/bartek/miniconda3/envs/ml/lib/python3.8/site-packages (from gradio==2.2.5->-r ../requirements.txt (line 5)) (1.0.0)\n",
      "Requirement already satisfied: Flask-Login in /home/bartek/miniconda3/envs/ml/lib/python3.8/site-packages (from gradio==2.2.5->-r ../requirements.txt (line 5)) (0.5.0)\n",
      "Requirement already satisfied: matplotlib in /home/bartek/miniconda3/envs/ml/lib/python3.8/site-packages (from gradio==2.2.5->-r ../requirements.txt (line 5)) (3.4.2)\n",
      "Requirement already satisfied: pycryptodome in /home/bartek/miniconda3/envs/ml/lib/python3.8/site-packages (from gradio==2.2.5->-r ../requirements.txt (line 5)) (3.10.1)\n",
      "Requirement already satisfied: scipy in /home/bartek/miniconda3/envs/ml/lib/python3.8/site-packages (from gradio==2.2.5->-r ../requirements.txt (line 5)) (1.7.0)\n",
      "Requirement already satisfied: analytics-python in /home/bartek/miniconda3/envs/ml/lib/python3.8/site-packages (from gradio==2.2.5->-r ../requirements.txt (line 5)) (1.4.0)\n",
      "Requirement already satisfied: markdown2 in /home/bartek/miniconda3/envs/ml/lib/python3.8/site-packages (from gradio==2.2.5->-r ../requirements.txt (line 5)) (2.4.0)\n",
      "Requirement already satisfied: pillow in /home/bartek/miniconda3/envs/ml/lib/python3.8/site-packages (from gradio==2.2.5->-r ../requirements.txt (line 5)) (8.3.1)\n",
      "Requirement already satisfied: threadpoolctl>=2.0.0 in /home/bartek/miniconda3/envs/ml/lib/python3.8/site-packages (from scikit_learn==0.24.2->-r ../requirements.txt (line 7)) (2.1.0)\n",
      "Requirement already satisfied: joblib>=0.11 in /home/bartek/miniconda3/envs/ml/lib/python3.8/site-packages (from scikit_learn==0.24.2->-r ../requirements.txt (line 7)) (1.0.1)\n",
      "Requirement already satisfied: itsdangerous>=2.0 in /home/bartek/miniconda3/envs/ml/lib/python3.8/site-packages (from Flask>=1.1.1->gradio==2.2.5->-r ../requirements.txt (line 5)) (2.0.1)\n",
      "Requirement already satisfied: Jinja2>=3.0 in /home/bartek/miniconda3/envs/ml/lib/python3.8/site-packages (from Flask>=1.1.1->gradio==2.2.5->-r ../requirements.txt (line 5)) (3.0.1)\n",
      "Requirement already satisfied: Werkzeug>=2.0 in /home/bartek/miniconda3/envs/ml/lib/python3.8/site-packages (from Flask>=1.1.1->gradio==2.2.5->-r ../requirements.txt (line 5)) (2.0.1)\n",
      "Requirement already satisfied: click>=7.1.2 in /home/bartek/miniconda3/envs/ml/lib/python3.8/site-packages (from Flask>=1.1.1->gradio==2.2.5->-r ../requirements.txt (line 5)) (8.0.1)\n",
      "Requirement already satisfied: Six in /home/bartek/miniconda3/envs/ml/lib/python3.8/site-packages (from Flask-Cors>=3.0.8->gradio==2.2.5->-r ../requirements.txt (line 5)) (1.16.0)\n",
      "Requirement already satisfied: MarkupSafe>=2.0 in /home/bartek/miniconda3/envs/ml/lib/python3.8/site-packages (from Jinja2>=3.0->Flask>=1.1.1->gradio==2.2.5->-r ../requirements.txt (line 5)) (2.0.1)\n",
      "Requirement already satisfied: pyparsing>=2.0.2 in /home/bartek/miniconda3/envs/ml/lib/python3.8/site-packages (from packaging->datasets==1.10.2->-r ../requirements.txt (line 1)) (2.4.7)\n",
      "Requirement already satisfied: urllib3<1.27,>=1.21.1 in /home/bartek/miniconda3/envs/ml/lib/python3.8/site-packages (from requests>=2.19.0->datasets==1.10.2->-r ../requirements.txt (line 1)) (1.26.6)\n",
      "Requirement already satisfied: chardet<5,>=3.0.2 in /home/bartek/miniconda3/envs/ml/lib/python3.8/site-packages (from requests>=2.19.0->datasets==1.10.2->-r ../requirements.txt (line 1)) (4.0.0)\n",
      "Requirement already satisfied: certifi>=2017.4.17 in /home/bartek/miniconda3/envs/ml/lib/python3.8/site-packages (from requests>=2.19.0->datasets==1.10.2->-r ../requirements.txt (line 1)) (2021.5.30)\n",
      "Requirement already satisfied: idna<3,>=2.5 in /home/bartek/miniconda3/envs/ml/lib/python3.8/site-packages (from requests>=2.19.0->datasets==1.10.2->-r ../requirements.txt (line 1)) (2.10)\n",
      "Requirement already satisfied: monotonic>=1.5 in /home/bartek/miniconda3/envs/ml/lib/python3.8/site-packages (from analytics-python->gradio==2.2.5->-r ../requirements.txt (line 5)) (1.6)\n",
      "Requirement already satisfied: python-dateutil>2.1 in /home/bartek/miniconda3/envs/ml/lib/python3.8/site-packages (from analytics-python->gradio==2.2.5->-r ../requirements.txt (line 5)) (2.8.2)\n",
      "Requirement already satisfied: backoff==1.10.0 in /home/bartek/miniconda3/envs/ml/lib/python3.8/site-packages (from analytics-python->gradio==2.2.5->-r ../requirements.txt (line 5)) (1.10.0)\n",
      "Requirement already satisfied: kiwisolver>=1.0.1 in /home/bartek/miniconda3/envs/ml/lib/python3.8/site-packages (from matplotlib->gradio==2.2.5->-r ../requirements.txt (line 5)) (1.3.1)\n",
      "Requirement already satisfied: cycler>=0.10 in /home/bartek/miniconda3/envs/ml/lib/python3.8/site-packages (from matplotlib->gradio==2.2.5->-r ../requirements.txt (line 5)) (0.10.0)\n",
      "Requirement already satisfied: pytz>=2017.3 in /home/bartek/miniconda3/envs/ml/lib/python3.8/site-packages (from pandas->datasets==1.10.2->-r ../requirements.txt (line 1)) (2021.1)\n",
      "Requirement already satisfied: pynacl>=1.0.1 in /home/bartek/miniconda3/envs/ml/lib/python3.8/site-packages (from paramiko->gradio==2.2.5->-r ../requirements.txt (line 5)) (1.4.0)\n",
      "Requirement already satisfied: bcrypt>=3.1.3 in /home/bartek/miniconda3/envs/ml/lib/python3.8/site-packages (from paramiko->gradio==2.2.5->-r ../requirements.txt (line 5)) (3.2.0)\n",
      "Requirement already satisfied: cryptography>=2.5 in /home/bartek/miniconda3/envs/ml/lib/python3.8/site-packages (from paramiko->gradio==2.2.5->-r ../requirements.txt (line 5)) (3.4.7)\n",
      "Requirement already satisfied: cffi>=1.1 in /home/bartek/miniconda3/envs/ml/lib/python3.8/site-packages (from bcrypt>=3.1.3->paramiko->gradio==2.2.5->-r ../requirements.txt (line 5)) (1.14.6)\n",
      "Requirement already satisfied: pycparser in /home/bartek/miniconda3/envs/ml/lib/python3.8/site-packages (from cffi>=1.1->bcrypt>=3.1.3->paramiko->gradio==2.2.5->-r ../requirements.txt (line 5)) (2.20)\n"
     ]
    }
   ],
   "metadata": {}
  },
  {
   "cell_type": "code",
   "execution_count": null,
   "source": [
    "from config import CFG\n",
    "\n",
    "from transformers import AutoTokenizer\n",
    "from transformers import AutoModelForSeq2SeqLM\n",
    "\n",
    "import gradio as gr\n",
    "\n",
    "import os\n",
    "\n",
    "def predict(text):\n",
    "  text = tokenizer(text, return_tensors='pt')\n",
    "  output = model.generate(**text)\n",
    "  output = tokenizer.decode(output[0], skip_special_tokens=True)\n",
    "\n",
    "  return output\n",
    "\n",
    "\n",
    "if __name__ == '__main__':\n",
    "    global model\n",
    "    global tokenizer\n",
    "\n",
    "    tokenizer = AutoTokenizer.from_pretrained(CFG.model_name)\n",
    "    if os.path.exists('src/model_checkpoints/finetuned_model_best_loss'):\n",
    "      model = AutoModelForSeq2SeqLM.from_pretrained('src/model_checkpoints/finetuned_model_best_loss')\n",
    "    else:\n",
    "      model = AutoModelForSeq2SeqLM.from_pretrained(CFG.model_name)\n",
    "    model.eval()\n",
    "\n",
    "    iface = gr.Interface(fn=predict, inputs=\"text\", outputs=\"text\", examples=[['Jak masz na imię?']])\n",
    "    iface.launch(share=True)\n"
   ],
   "outputs": [],
   "metadata": {}
  }
 ],
 "metadata": {
  "orig_nbformat": 4,
  "language_info": {
   "name": "python",
   "version": "3.8.10",
   "mimetype": "text/x-python",
   "codemirror_mode": {
    "name": "ipython",
    "version": 3
   },
   "pygments_lexer": "ipython3",
   "nbconvert_exporter": "python",
   "file_extension": ".py"
  },
  "kernelspec": {
   "name": "python3",
   "display_name": "Python 3.8.10 64-bit ('ml': conda)"
  },
  "interpreter": {
   "hash": "94e574b0ff762fa2604e2dda0d42a42ee05e68ff187669f28abf9be9211e1e6e"
  }
 },
 "nbformat": 4,
 "nbformat_minor": 2
}